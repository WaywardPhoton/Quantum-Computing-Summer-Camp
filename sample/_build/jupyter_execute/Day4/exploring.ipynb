{
 "cells": [
  {
   "cell_type": "markdown",
   "metadata": {},
   "source": [
    "# Exploring Further\n",
    "\n",
    "In this section we've collected a few different ideas for projects that you could pursue for tomorrow. With any project, you should relate your idea to a real world problem and how quantum technologies might be helpful. Note that your idea doesn't have to be totally realistic - try to incorporate something you've learned this week, but otherwise have fun with it!\n",
    " You'll pitch your idea in a \"Dragon's Den\" type scenario, with your camp leaders and a special guest acting as the \"Dragons\". \n",
    "\n",
    "Some of your options are:\n",
    "\n",
    "- Explore the games in [Quantum Hub](http://quantum-hub.herokuapp.com/app/sudoku), which make use of a real quantum device known as a quantum annealer. \n",
    "- Create an animation in Scratch, explaining a quantum idea and how it could be useful. \n",
    "- Propose a new video game, maybe inspired by the quantum navigator game you played at the start of the week.\n",
    "- Explore some of the exciting ideas in quantum technology that we haven't explored in the camp, and tell us how they could be used to solve a real world problem. \n",
    "\n",
    "In the next few sections we'll explore how you can get started on these projects in more detail. Note that you don't need to read each section in detail - just pick one you'd like to do with your group and go from there!"
   ]
  },
  {
   "cell_type": "markdown",
   "metadata": {},
   "source": [
    "\n",
    "## Quantum Annealing and Quantum Hub\n",
    "\n",
    "Let's imagine today is a very special day - free slushie day at SnackShop! So, you set out on a roadtrip to visit every SnackShop in the city. There are 7 SnackShops scattered around Vancouver. \n",
    "\n",
    "Whats the fastest way to get to every SnackShop? In computer science, this problem is known as the travelling salesman problem and its one of the hardest problems out there! With just seven SnackShops your phone can find the fastest route, but with more, it becomes too hard very fast. \n",
    "\n",
    "We will probably never be able to solve very hard problems in every case. Sometimes though we can use special techniques to solve special examples of such problems. For example, if the SnackShops can be anywhere the problem is very hard. But, if the SnackShops had to be along the freeway, it'd be a lot easier, and there might be a good way to solve the problem. \n",
    "\n",
    "One strategy to solve these very hard problems, which might work in such special cases, is to use what is called a Quantum annealer. Quantum annealers are easier to build than the quantum computers we've talked about in this camp, and in fact there is a company in Burnaby, B.C. building them now! \n",
    "\n",
    "![](images/snack.PNG)\n",
    "<br>\n",
    "\n",
    "What's the fastest way to get to every SnackShop? In computer science, this problem is known as the travelling salesman problem and its one of the hardest problems out there! With just seven SnackShops your phone can find the fastest route, but with more, it becomes too hard very fast. \n",
    "\n",
    "We will probably never be able to solve very hard problems in every case. Sometimes though we can use special techniques to solve special examples of such problems. For example, if the SnackShops can be anywhere the problem is very hard. But, if the SnackShops had to be along the freeway, it'd be a lot easier, and there might be a good way to solve the problem. \n",
    "\n",
    "One strategy to solve these very hard problems, which might work in such special cases, is to use what is called a Quantum annealer. Quantum annealers are easier to build than the quantum computers we've talked about in this camp, and in fact there is a company in Burnaby,B.C. building them now! "
   ]
  },
  {
   "cell_type": "code",
   "execution_count": 1,
   "metadata": {
    "tags": [
     "hide-input"
    ]
   },
   "outputs": [
    {
     "data": {
      "text/html": [
       "\n",
       "<iframe\n",
       "    width=\"560\"\n",
       "    height=\"315\"\n",
       "    src=\"https://www.youtube.com/watch?v=zvfkXjzzYOo&t=1s\"\n",
       "    frameborder=\"0\"\n",
       "    allowfullscreen\n",
       "></iframe>\n"
      ],
      "text/plain": [
       "<IPython.lib.display.IFrame at 0x1b849cbf198>"
      ]
     },
     "execution_count": 1,
     "metadata": {},
     "output_type": "execute_result"
    }
   ],
   "source": [
    "from IPython.display import IFrame\n",
    "IFrame(src='https://www.youtube.com/watch?v=zvfkXjzzYOo&t=1s', width='560', height='315')\n"
   ]
  },
  {
   "cell_type": "markdown",
   "metadata": {},
   "source": [
    "You can actually test out D-Wave's quantum annealer for yourself through the games on the Quantum Hub website - which was built by the GeeringUp Quantum team! One idea for your project is you can choose one of the games there and explore it, and maybe think of a way that it could be useful in the real world.\n",
    "\n",
    "There are three problems you can solve using D-Waves Quantum Annealer:\n",
    "\n",
    "- [Lattice Optimization Game](http://quantum-hub.herokuapp.com/app/lattice)\n",
    "\n",
    "![](images/lattice.png)\n",
    "\n",
    "<br>\n",
    "\n",
    "-[Sudoku Solver](http://quantum-hub.herokuapp.com/app/sudoku)\n",
    "\n",
    "![](images/sudoku.PNG)\n",
    "\n",
    "<br>\n",
    "\n",
    "-[Nurse Scheduling App](http://quantum-hub.herokuapp.com/app/nurse)\n",
    "\n",
    "![](images/nurse.PNG)\n",
    "<br>\n",
    "\n",
    "\n",
    "Check them out for yourself, and think about how these problems or other ones you might use a Quantum Annealer for could be useful in the real world! For another idea, check out this video from Volkswagen:\n",
    "\n"
   ]
  },
  {
   "cell_type": "code",
   "execution_count": 2,
   "metadata": {
    "tags": [
     "hide-input"
    ]
   },
   "outputs": [
    {
     "data": {
      "text/html": [
       "\n",
       "<iframe\n",
       "    width=\"560\"\n",
       "    height=\"315\"\n",
       "    src=\"https://www.youtube.com/watch?v=vGVcCO0Dcxc\"\n",
       "    frameborder=\"0\"\n",
       "    allowfullscreen\n",
       "></iframe>\n"
      ],
      "text/plain": [
       "<IPython.lib.display.IFrame at 0x1b849cd8c88>"
      ]
     },
     "execution_count": 2,
     "metadata": {},
     "output_type": "execute_result"
    }
   ],
   "source": [
    "from IPython.display import IFrame\n",
    "IFrame(src='https://www.youtube.com/watch?v=vGVcCO0Dcxc', width='560', height='315')\n"
   ]
  },
  {
   "cell_type": "code",
   "execution_count": null,
   "metadata": {},
   "outputs": [],
   "source": []
  }
 ],
 "metadata": {
  "celltoolbar": "Tags",
  "kernelspec": {
   "display_name": "Python 3",
   "language": "python",
   "name": "python3"
  },
  "language_info": {
   "codemirror_mode": {
    "name": "ipython",
    "version": 3
   },
   "file_extension": ".py",
   "mimetype": "text/x-python",
   "name": "python",
   "nbconvert_exporter": "python",
   "pygments_lexer": "ipython3",
   "version": "3.7.0"
  }
 },
 "nbformat": 4,
 "nbformat_minor": 2
}