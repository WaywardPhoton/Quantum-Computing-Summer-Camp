{
 "cells": [
  {
   "cell_type": "markdown",
   "metadata": {},
   "source": [
    "# Weirdness into Awesomeness\n",
    "\n",
    "Among the ways that the future will look different than today, one of the first that comes to mind is changes in technology. For example, in 2007 the first iPhone was released. Life in 2020 looks very different than in 2007 because of this!\n",
    "\n",
    "This camp is about an upcoming technology called a quantum computer, which is coming soon, and will have a large impact on many different areas of our world. In some ways this impact has already started, as we will explore later in the week.\n",
    "\n",
    "Before we delve into what a quantum computer is, explore the next question to see one of the surprising things a quantum computer, when we create one, will be able to do. \n",
    "\n",
    "Joey the Otter recently hired by GeeringUp as a quantum ambassador, has ordered their favourite thing in the mail - Delux brand pickles! \n",
    "\n",
    "![](images/joey.png) \n",
    "\n",
    "As often happens, Joey's order has come with a large amount of un-necessary packaging. In fact, the package consists of 1 large box with 100 smaller boxes packed inside. The pickles are hidden in one of the smaller boxes.\n",
    " \n",
    "![](images/boxes.png)"
   ]
  },
  {
   "cell_type": "markdown",
   "metadata": {},
   "source": [
    "## Concept Check!\n",
    "If you open the boxes one by one, how many do you need to open before you have a 50% chance of finding the pickles?\n",
    "\n",
    "```{toggle} Click the button to reveal!\n",
    "\n",
    "\n",
    "You would need to open roughly half the boxes. \n",
    "```"
   ]
  },
  {
   "cell_type": "markdown",
   "metadata": {},
   "source": [
    "\n",
    "\n",
    "The procedure we used above to look through the boxes is to open boxes one at a time until we find the right box. A step-by-step method for solving a problem is known as an algorithm. \n",
    "\n",
    "Algorithms are one of the big ideas we'll be exploring this week. \n",
    "\n",
    "Returning to the pickles in boxes problem, do you think there is any way to find the pickles in less than 50 steps?\n"
   ]
  },
  {
   "cell_type": "markdown",
   "metadata": {},
   "source": [
    "## Quantum Searching\n",
    "\n",
    "The technology we will discuss in this course, a quantum computer, is able to search through the boxes in less than 50 steps.\n",
    "\n",
    "In fact, it takes only about 10 steps.\n",
    "\n",
    "### Question\n",
    "The difference between 10 and 50 may not seem like a lot. Whats all the excitement about?\n",
    "Say you have to search through many boxes, with the number of boxes called **N**. How many steps does it take to find what you're looking for if you check the boxes one by one?\n",
    "\n",
    "\n",
    "```{toggle} Click the button to reveal!\n",
    "\n",
    "\n",
    "You would need to open N/2 boxes. \n",
    "```\n"
   ]
  },
  {
   "cell_type": "markdown",
   "metadata": {},
   "source": [
    "## Goals for the Week\n",
    "\n",
    "\n",
    "\n",
    "We've seen that quantum computers are devices that solve certain problems faster than we might expect. This week, we'll be exploring two big ideas:\n",
    "\n",
    "- Why does it matter if we can solve problems faster?\n",
    "- What really is a quantum computer, and how does it work?\n",
    "\n",
    "Today we'll talk mostly about the first question. Later in the week we'll start to understand the second question.\n",
    "\n",
    "Answering the second question brings us into some of the biggest questions in physics and science. In fact, we'll see that the way quantum computers work is totally weird! At the same time, the problems they will let us solve will have an enormous impact, potentially changing our lives for the better.  \n"
   ]
  },
  {
   "cell_type": "markdown",
   "id": "44c280a8",
   "metadata": {},
   "source": [
    "\n",
    "```{toctree}\n",
    ":hidden:\n",
    ":titlesonly:\n",
    "\n",
    "\n",
    "Day1Bits\n",
    "Day1Qbits\n",
    "DblSlit\n",
    "Superposition\n",
    "SpkyDst\n",
    "QObj\n",
    "QNav\n",
    "WhyQC\n",
    "Scratch\n",
    "```\n"
   ]
  }
 ],
 "metadata": {
  "kernelspec": {
   "display_name": "Python 3.7.0 64-bit ('.venv': venv)",
   "name": "venv"
  },
  "language_info": {
   "codemirror_mode": {
    "name": "ipython",
    "version": 3
   },
   "file_extension": ".py",
   "mimetype": "text/x-python",
   "name": "python",
   "nbconvert_exporter": "python",
   "pygments_lexer": "ipython3",
   "version": "3.7.0"
  }
 },
 "nbformat": 4,
 "nbformat_minor": 2
}