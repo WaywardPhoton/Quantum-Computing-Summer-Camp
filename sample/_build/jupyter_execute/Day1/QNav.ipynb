{
 "cells": [
  {
   "cell_type": "markdown",
   "metadata": {},
   "source": [
    "# Quantum Navigator \n",
    "\n",
    "To start you on exploring some quantum ideas on your own, we've created a game called \"Quantum Navigator.\" \n",
    "\n",
    "In the game, Joey the Otter follows the rules of quantum information. Using those rules, Joey has to navigate through the world, hoping eventually to meet their friend Bob. Take a few minutes to play the game.\n",
    "\n",
    "Here is the [universal link](https://drive.google.com/file/d/14z9q8nEmsLpYKRSXyI_U9-nNbYw8xnTs/view?usp=sharing) to download the game!\n",
    "\n",
    "Extract the folder to somewhere you can easily access. Make sure that the **pck** file is in the same folder as the **.exe** or **.dmg** files!\n",
    "\n",
    "Windows Users: Run the **.exe** file!\n",
    "\n",
    "Mac Users: Run the **.dmg** file, but you'll have to Ctrl-Click (or Cmd-Click/Right Click -> Run) to be able to open the game :)\n",
    "\n",
    "Controls for the game:\n",
    "Controls:\n",
    "\n",
    "- Arrow keys to move\n",
    "- Space bar to interact with objects (only some of them are interact-able)\n",
    "- X to shoot a Bell Qubit\n",
    "- I to open information about elements\n",
    "- C for controls\n",
    "\n",
    "Ideas:\n",
    "\n",
    "- Collect Pickles!\n",
    "- Collect Bits!\n",
    "- Make your way to the end of the levels\n",
    "\n",
    "Use the discussion room to chat about the game, or ask for hints if you get stuck! Level 3 is pretty challenging :) Have fun!\n",
    "\n",
    "![](images/QuantumNavigator.png)\n",
    "\n"
   ]
  }
 ],
 "metadata": {
  "language_info": {
   "codemirror_mode": {
    "name": "ipython",
    "version": 3
   },
   "file_extension": ".py",
   "mimetype": "text/x-python",
   "name": "python",
   "nbconvert_exporter": "python",
   "pygments_lexer": "ipython3",
   "version": "3.7.0"
  }
 },
 "nbformat": 4,
 "nbformat_minor": 2
}