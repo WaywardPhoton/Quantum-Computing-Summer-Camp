{
 "cells": [
  {
   "cell_type": "markdown",
   "metadata": {},
   "source": [
    "# Introducing Quantum Information\n",
    "\n",
    "Welcome to Day 2! Today, we're going to be exploring some cool quantum phenomena like superposition and spin in more depth. We're also going to build on some of the knowledge from Day 1, and start looking at *Quantum Gates*, which are the quantum version of the classical gates we saw!\n",
    "\n",
    "Today we will be looking at *Quantum Information* : what it is, how it is different from classical information, and what makes it useful for quantum computing!\n",
    "\n"
   ]
  },
  {
   "cell_type": "markdown",
   "id": "99a15259",
   "metadata": {},
   "source": [
    "\n",
    "```{toctree}\n",
    ":hidden:\n",
    ":titlesonly:\n",
    "\n",
    "\n",
    "Donut\n",
    "Spin\n",
    "Sup_Vectors\n",
    "SternGerlach\n",
    "QuantumCircuits\n",
    "```\n"
   ]
  }
 ],
 "metadata": {
  "language_info": {
   "codemirror_mode": {
    "name": "ipython",
    "version": 3
   },
   "file_extension": ".py",
   "mimetype": "text/x-python",
   "name": "python",
   "nbconvert_exporter": "python",
   "pygments_lexer": "ipython3",
   "version": "3.7.0"
  }
 },
 "nbformat": 4,
 "nbformat_minor": 2
}