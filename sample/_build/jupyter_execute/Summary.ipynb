{
 "cells": [
  {
   "cell_type": "markdown",
   "metadata": {},
   "source": [
    "# Welcome to Camp!\n",
    "This week, you'll be learning about something awesome, and also something very weird - the quantum computer. In fact, by the end of camp you'll receive our Quantum Engineering 101 certificate, and along the way you'll learn all about quantum computing by solving some interesting problems! And don't worry, you don't need to know anything about quantum computing to get started. \n",
    "\n",
    "Here's a brief overview of the goals for your learning are this week:\n",
    "\n",
    "- Understand what a quantum computer is, and what they're good for.\n",
    "- Learn the fundamentals of how to code in Scratch\n",
    "- Understand quantum superposition, and how it relates to quantum measurement\n",
    "- Explore aspects of quantum entanglement\n",
    "- Program a quantum algorithm in Scratch\n",
    "\n",
    "You'll explore these topics through a variety of games, videos and activities. You'll even have a chance to test out some real quantum devices! Remember that if you're ever lost, your camp leaders are here to help you out. \n",
    "\n",
    "# What You'll Need\n",
    "\n",
    "\n",
    "This camp will be run entirely online. While we wish we could meet you in person, the online format is also exciting in many ways. For example, we're not limited to offering the camp to people near UBC - anyone across the province can participate!\n",
    "\n",
    "To run the camp online, we'll be using a variety of online tools. To use these tools you will need an email account, or permission to use your parents' email account when signing up for a [Scratch](https://scratch.mit.edu/) account. Scratch is a free online computer coding system created by MIT.\n",
    "\n",
    "It is an easy-to-learn computer programming language that lets you write computer programs in a visual platform. You'll need to make a Scratch account. Go to the registration webpage here: https://scratch.mit.edu/join\n",
    "\n",
    "Follow the instructions to make an account. You'll need to use an email address to sign up. If you don't have an email address you can ask a parent or guardian to use theirs. \n",
    "\n",
    "After you've signed up, you'll need to check your email to verify your account. Doing this will let you share your projects with us!\n",
    "\n",
    "Make sure you have an email address you can use before camp starts tomorrow!\n",
    "\n",
    "\n",
    "\n"
   ]
  },
  {
   "cell_type": "markdown",
   "metadata": {},
   "source": [
    "# Dragons Den\n",
    "\n",
    "Towards the end of the week, you'll create a fun pitch for a \"Dragons Den\" type show. The judges will consist of your camp leaders plus a special mystery guest - the mystery guest will be a quantum scientist or someone working for a quantum computing company, like Microsoft or D-Wave. We'll be helping you create a pitch over the course of the week.\n",
    "\n",
    "![](images/dd.png \"Dragon's Den\")\n",
    "\n",
    "\n",
    "After the pitch, you'll receive your **quantum engineering certificate**. "
   ]
  },
  {
   "cell_type": "markdown",
   "id": "6f03a7c9",
   "metadata": {},
   "source": [
    "\n",
    "```{toctree}\n",
    ":hidden:\n",
    ":titlesonly:\n",
    "\n",
    "\n",
    "Day1/Day1\n",
    "Day2/Day2\n",
    "Day3/entanglement\n",
    "ibmq/first\n",
    "```\n"
   ]
  }
 ],
 "metadata": {
  "kernelspec": {
   "display_name": "Python 3",
   "language": "python",
   "name": "python3"
  },
  "language_info": {
   "codemirror_mode": {
    "name": "ipython",
    "version": 3
   },
   "file_extension": ".py",
   "mimetype": "text/x-python",
   "name": "python",
   "nbconvert_exporter": "python",
   "pygments_lexer": "ipython3",
   "version": "3.7.0"
  }
 },
 "nbformat": 4,
 "nbformat_minor": 2
}