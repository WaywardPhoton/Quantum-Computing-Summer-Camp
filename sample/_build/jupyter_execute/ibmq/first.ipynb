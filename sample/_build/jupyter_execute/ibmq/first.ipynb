{
 "cells": [
  {
   "cell_type": "markdown",
   "metadata": {},
   "source": [
    "# Quantum Gates on IBMQ\n",
    "\n",
    "In this section, we'll be building some quantum circuits to run on the IBMQ quantum simulator! The option to run these circuits on a realy quantum computer also exists, time permitting. Let's dive in!"
   ]
  },
  {
   "cell_type": "markdown",
   "id": "db3b9bcb",
   "metadata": {},
   "source": [
    "\n",
    "```{toctree}\n",
    ":hidden:\n",
    ":titlesonly:\n",
    "\n",
    "\n",
    "MathToolkit\n",
    "Intro\n",
    "SuperDenseCoding\n",
    "oracles\n",
    "grovercode\n",
    "```\n"
   ]
  }
 ],
 "metadata": {
  "language_info": {
   "codemirror_mode": {
    "name": "ipython",
    "version": 3
   },
   "file_extension": ".py",
   "mimetype": "text/x-python",
   "name": "python",
   "nbconvert_exporter": "python",
   "pygments_lexer": "ipython3",
   "version": "3.7.0"
  }
 },
 "nbformat": 4,
 "nbformat_minor": 2
}