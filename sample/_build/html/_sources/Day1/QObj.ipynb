{
 "metadata": {
  "language_info": {
   "codemirror_mode": {
    "name": "ipython",
    "version": 3
   },
   "file_extension": ".py",
   "mimetype": "text/x-python",
   "name": "python",
   "nbconvert_exporter": "python",
   "pygments_lexer": "ipython3",
   "version": 3
  },
  "orig_nbformat": 2
 },
 "nbformat": 4,
 "nbformat_minor": 2,
 "cells": [
  {
   "source": [
    "# Quantum Objects in Real Life\n",
    "\n",
    "The things you are most familiar with - like books, texts, memes and so on - all are described by classical information. Where in the world can we find a way to create quantum information?\n",
    "\n",
    "Things that are very cold, or very small behave according to the laws of quantum mechanics and therefore can be used to store qubits. This includes some of the weirdest things you can possibly dream up!\n",
    "\n",
    "For example, superconductors can be used to store quantum states. Superconductors are materials that conduct electricity with almost no resistance, usually at very low temperatures. It's at these low temperatures that electrons\n",
    "\"condense\" into quantum states. How low of a temperature? The coldest temperature naturally achieved on earth is about -89 degrees Celsius —most materials in superconducting quantum systems have to be cooled close to -273 degrees...Brrr!\n",
    "\n",
    "Here's what an electron sees when it tries to move in a normal material:\n",
    "\n",
    "\n",
    "\n",
    "<img src=\"https://miro.medium.com/proxy/1*9JoOfMcpLY1M6TpfbUauug.gif\">"
   ],
   "cell_type": "markdown",
   "metadata": {}
  },
  {
   "source": [
    "Here's how they behave in a superconductor:\n",
    "\n",
    "<img src= \"https://img.pngio.com/stickman-png-gif-6-gif-images-download-stick-man-png-gif-1000_900.gif\" style=\"width: 300px;\" />"
   ],
   "cell_type": "markdown",
   "metadata": {}
  },
  {
   "source": [
    "There are many different systems that can be used for quantum computing! Single atoms, or even single electrons can also be used to store qubits. We will have a chance to explore some of these systems later. \n",
    "\n",
    "Here's some photos of macroscopic objects that behave classically:\n",
    "\n",
    "![](images/classical.png)"
   ],
   "cell_type": "markdown",
   "metadata": {}
  },
  {
   "source": [
    "Here are some objects that behave non-classically: \n",
    "\n",
    "*A magnet levitating above a superconductor.*\n",
    "\n",
    "<img src = \"https://i.imgur.com/WatqKtY.gif\">\n",
    "\n",
    "*A superfluid dripping!* Superfluid helium can do some pretty wild stuff, like climb the walls of its enclosure and remain motionless when spun.\n",
    "\n",
    "<img src = \"https://i.imgur.com/ZfCJosq.gif\">\n",
    "\n",
    "*A laser lightsaber.*\n",
    "\n",
    "<img src= \"https://content.instructables.com/FZJ/7NZ3/IZYGOGGZ/FZJ7NZ3IZYGOGGZ.gif\" style=\"width: 400px;\" />\n",
    "\n",
    "You can also check out these videos if you'd like to explore some real life quantum objects further:\n",
    "\n",
    "- [Superconductors](https://www.youtube.com/watch?v=l0jEbWfFAXU)\n",
    "- [Superfluids](https://www.youtube.com/watch?v=2Z6UJbwxBZI)\n",
    "- [Lasers](https://www.youtube.com/watch?v=lW4Uq_2VPhE)\n",
    "\n",
    "\n",
    "\n"
   ],
   "cell_type": "markdown",
   "metadata": {}
  }
 ]
}