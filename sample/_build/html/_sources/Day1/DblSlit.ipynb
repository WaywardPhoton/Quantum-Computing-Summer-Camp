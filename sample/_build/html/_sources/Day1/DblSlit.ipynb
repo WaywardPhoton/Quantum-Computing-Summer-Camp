{
 "metadata": {
  "language_info": {
   "codemirror_mode": {
    "name": "ipython",
    "version": 3
   },
   "file_extension": ".py",
   "mimetype": "text/x-python",
   "name": "python",
   "nbconvert_exporter": "python",
   "pygments_lexer": "ipython3",
   "version": 3
  },
  "orig_nbformat": 2
 },
 "nbformat": 4,
 "nbformat_minor": 2,
 "cells": [
  {
   "source": [
    "# The Double Slit Experiment \n",
    "Say hello to Bitly, the quantum cat.\n",
    "\n",
    "\n",
    "![drawing](images/bitly.png)\n",
    "\n",
    "\n",
    "Over the next few sections, Bitly will be introcuding you to a wacky, possibly unfamiliar field of physics: **quantum physics**!\n",
    "**Classical physics** is the field of physics that describes the movement of large objects, like planets and humans (and cats!). This is the field of physics that had been known to humans for a long time. However, at the start of the 20th century, classical physics was having a lot of trouble explaining the results of some puzzling experiments.\n",
    "\n",
    "The rules that applied to large objects --like Newton’s laws to humans-- did not make sense when applied to very small objects. A new theory —quantum theory— was developed to explain the behavior of quantum objects such as photons (particles of light), electrons, and other microscopic objects.\n"
   ],
   "cell_type": "markdown",
   "metadata": {}
  },
  {
   "source": [
    "Let's explore one of these troubling experiments now! \n",
    "\n",
    "The first experiment can be compared to Bitly standing in front of an open door: say, the front door leading to the very forbidden *outdoors*. How would it get through the door, according to the laws of classical physics? Well, chances are it'd just pass right though, straight through the doorway, and come out fully on the other side. Cats may not care much for the laws of people, but they still obey the laws of physics! Scientists wanted to see if light would move through an opening the same way a cat might cross an open doorway. \n",
    "\n",
    "\n",
    "![drawing](images/bitly2.png)"
   ],
   "cell_type": "markdown",
   "metadata": {}
  },
  {
   "source": [
    "Now, let's exapnd this to an acutal experiment that was done in physics. Replace the cat with a light bulb, and the open doorway with a piece of paper that has two small slits carved into it. Imagine a light bulb shining on two slits in a piece of paper. A black screen is placed behind the slits, so that a scientist can see where the light goes. This is called the \"double-slit\" experiment.\n",
    "\n",
    "\n",
    "\n",
    "\n",
    "![drawing](images/dblslit1.png)\n",
    "\n",
    "***\n",
    " ### What do you think the pattern on the screen will look like?\n",
    "\n",
    " Options:\n",
    " - Two bright regions on the left and right, where the slits are \n",
    " - Bright regions at intervals across the screen\n",
    " - A bright spot in the middle of the screen \n",
    " \n",
    " \n",
    "\n",
    "```{toggle} Click the button to reveal!\n",
    "\n",
    "\n",
    "There would be bright regions at intervals across the screen.\n",
    "```\n",
    "\n"
   ],
   "cell_type": "markdown",
   "metadata": {}
  },
  {
   "source": [
    "You probably thought there would be two bright spots on the left and right of the screen, corresponding to the position of the slits. \n",
    "\n",
    "The bright spots should correspond to the location of the slits. This thinking isn't wrong at all! This is exactly what classical physics predicted. At that time, light was thought to be composed of many small particles, called photons. Scientists thought that a given particle would go through either the left or the right slit. Since millions of these particles in a beam of light would be making this decision every second, the final result should just be two bright spots!\n",
    "\n",
    "However, what scientists actually saw was this:\n",
    "\n",
    "![](images/dblslit2.png)\n",
    "\n",
    "\n",
    "This pattern of alternating bright and dark lines is what you would see if light was a **wave**. Just like ripples in a pond, the waves would pass through both slits and interfere with each other, causing peaks (bright spots) and troughs (dark spots) to appear.\n",
    "\n",
    "How could light be both a particle and a wave? How could it behave like a particle sometimes, and a wave at others?\n",
    "\n",
    "Things got even crazier when the experiment was repeated with a **single photon**. \n",
    "\n",
    "***\n",
    "### What do you think the outcome of this experiment was?\n",
    "Options:\n",
    "- One bright spot on the screen \n",
    "- An interference pattern\n",
    "- No bright spots \n",
    "\n",
    "```{toggle} Click the button to reveal!\n",
    "\n",
    "An interference pattern would be observed.\n",
    "```\n",
    "\n",
    "According to classical physics, a single particle should go through *either* the left of the right slit, so there should only be a single bright spot on the screen. But here's the crazy part—instead, the exact same interference pattern was observed.\n",
    "\n",
    "A whole branch of physics, called **quantum mechanics**, had to be invented just to explain this! The only logical explanation is that the photon passes through **both slits** at once, then interferes with itself. This would mean that the single photon was behaving like a wave!\n",
    "This interference leads to peaks where the waves build up on each other, and troughs where the waves cancel each other out. \n",
    "This idea that the photon can be in multiple places at once is called **superposition**, and it's a very important principle in quantum physics. The interference of two waves that causes a superposition is shown below. \n",
    "\n",
    "\n",
    "\n",
    "<img src=\"https://ophysics.com/images/pulses.gif\"  style=\"width: 600px;\" />"
   ],
   "cell_type": "markdown",
   "metadata": {}
  },
  {
   "cell_type": "code",
   "execution_count": null,
   "metadata": {},
   "outputs": [],
   "source": []
  },
  {
   "source": [
    "*Cats supposedly enjoy playing with yarn. Sometimes, that yarn comes from a ball, and at other times, it comes from destroying your sweater! Superposition is sort of like a sweater knitting pattern this way: one side of the fabric might look like a knit stitch, and the other like a purl stitch! It's the superposition of theses stitches that creates the pattern and texture.*\n",
    "\n",
    "![](images/bitly3.png)"
   ],
   "cell_type": "markdown",
   "metadata": {}
  },
  {
   "source": [
    "Scientists tried to measure the exact location of the photon by placing detectors on each slit. When they did this, they found that the result of the experiment was no longer an interference pattern but a **single** bright spot —almost as if the photon knew it was being measured and decided to behave **classically** just to spite them!\n",
    "\n",
    "The idea that the outcome of an experiment can depend on whether or not someone is actively trying to observe it may seem crazy—but it's a fundamental principle of quantum mechanics."
   ],
   "cell_type": "markdown",
   "metadata": {}
  }
 ]
}