{
 "metadata": {
  "language_info": {
   "codemirror_mode": {
    "name": "ipython",
    "version": 3
   },
   "file_extension": ".py",
   "mimetype": "text/x-python",
   "name": "python",
   "nbconvert_exporter": "python",
   "pygments_lexer": "ipython3",
   "version": 3
  },
  "orig_nbformat": 2
 },
 "nbformat": 4,
 "nbformat_minor": 2,
 "cells": [
  {
   "source": [
    "# Quantum Gates on IBMQ\n",
    "\n",
    "In this section, we'll be building some quantum circuits to run on the IBMQ quantum simulator! The option to run these circuits on a realy quantum computer also exists, time permitting. Let's dive in!"
   ],
   "cell_type": "markdown",
   "metadata": {}
  }
 ]
}