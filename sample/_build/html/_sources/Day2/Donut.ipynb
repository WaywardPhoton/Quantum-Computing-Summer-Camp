{
 "metadata": {
  "language_info": {
   "codemirror_mode": {
    "name": "ipython",
    "version": 3
   },
   "file_extension": ".py",
   "mimetype": "text/x-python",
   "name": "python",
   "nbconvert_exporter": "python",
   "pygments_lexer": "ipython3",
   "version": 3
  },
  "orig_nbformat": 2
 },
 "nbformat": 4,
 "nbformat_minor": 2,
 "cells": [
  {
   "source": [
    "# Superposition With Donuts\n",
    "\n",
    "In computers, the smallest unit of data or information is called a bit. In quantum computing, the smallest unit, or most basic chunk of quantum information is called a **qubit**. Qubits are the building blocks for quantum computers!\n",
    "\n",
    "Here's how qubits differ from bits.\n",
    "\n",
    "Let's pretend that a bit can be represented by a delicious frosted doughnut. The frosted side represents a '1' and the backside represents a '0'. There are only two sides to the doughnut, and if we hold it up, we can see one side at a time. \n",
    "\n",
    "<br>\n",
    "\n",
    "<img src=\"https://cdn3.volusion.com/kstbm.tucxp/v/vspfiles/photos/pillow_128EMM1058donut-2.jpg\" alt=\"Drawing\" style=\"width: 200px;\"/>\n"
   ],
   "cell_type": "markdown",
   "metadata": {}
  },
  {
   "source": [
    "Now, a qubit is what happens if we attach this donut to a string and give it a spin: \n",
    "\n",
    "<br>\n",
    "\n",
    "<img src = \"https://media.tenor.com/images/485520305d1d275474b6d55e75290150/tenor.gif\" alt=\"Drawing\" style=\"width: 200px;\"/>\n",
    "\n",
    "\n",
    "If we spin the doughnut fast enough, it will seem like we're seeing both the frosted and unfrosted sides at once! This is called a quantum **superposition**. The ability to exist in both states at once is the main way in which qubits are different from bits!\n",
    "\n",
    "A quantum state represents which 'side' of the doughnut we are  looking at. Because of superposition, a qubit can be in many different quantum states. In this camp, we're going to start off by looking at 4 different states a qubit can be in. We'll label these by drawing arrows in four different directions, like this:\n",
    "\n",
    "<br>\n",
    "\n",
    "![](images/spinning.png)\n",
    "\n",
    "The first case represents the {0} state, or the unfrosted side of the doughnut. The second case represents the {1} case, or the frosted side of the doughnut. The second and third cases represents two possible superposition states of the doughnut by having it spin either clockwise or counterclockwise.\n",
    "\n",
    "We'll call these up, down, left, and right. Today will be all about understanding qubits and these four states. As we'll see, qubits are very strange!\n"
   ],
   "cell_type": "markdown",
   "metadata": {}
  }
 ]
}