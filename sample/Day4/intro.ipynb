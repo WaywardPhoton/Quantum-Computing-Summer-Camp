{
 "metadata": {
  "language_info": {
   "codemirror_mode": {
    "name": "ipython",
    "version": 3
   },
   "file_extension": ".py",
   "mimetype": "text/x-python",
   "name": "python",
   "nbconvert_exporter": "python",
   "pygments_lexer": "ipython3",
   "version": 3
  },
  "orig_nbformat": 2
 },
 "nbformat": 4,
 "nbformat_minor": 2,
 "cells": [
  {
   "source": [
    "## Quantum Algorithms\n",
    "\n",
    "Today we're going to be exploring how we can actually *do* tihngs with quantum computers! So far we've learned about entanglement, superposition, and quantum gates. Now we're going to put all these concepts together and learn about quantum algorithms.\n",
    "\n",
    "A typical quantum algorithm consists of:\n",
    "\n",
    "- The problem we want to solve,\n",
    "\n",
    "- A classical algorithm that can describe the working of the quantum circuit,\n",
    "\n",
    "- The quantum circuit that uses quantum gates to manipulate qubits,\n",
    "\n",
    "- And the output (in classical 0 or 1) to the problem. \n",
    "\n",
    "Quantum computers are then programmed to run these quantum circuits. They can be constructed out of any quantum technology that allows for defining qubit elements, and can implement single- and multi-qubit operations. Some of these quantum technologies include quantum things we have already looked at, such as superconducting materials, photons, or trapped (and very cold) atoms.  \n",
    "Currently, quantum computers based on superconducting circuits, trapped-ions, semiconducting quantum-dots, photons, and neutral atoms, are actively being developed, and many are accessible to users over the internet. \n",
    "\n",
    "IBM has a cloud-accessible quantum computer with 53 qubits. The circuits on the computer are programmed using the Qiskit SDK. Qiskit provides a platform in which you can use a computer language (in this case, Python) to interact with the quantum computer, map the circuit instructions onto the existing hardware, and simulate the effect of the circuit in real time. \n",
    "<br>\n",
    "<br>\n",
    "\n",
    "\n",
    "![](images/IBM.png)\n",
    "\n",
    "*The IBM Quantum Computer*"
   ],
   "cell_type": "markdown",
   "metadata": {}
  }
 ]
}