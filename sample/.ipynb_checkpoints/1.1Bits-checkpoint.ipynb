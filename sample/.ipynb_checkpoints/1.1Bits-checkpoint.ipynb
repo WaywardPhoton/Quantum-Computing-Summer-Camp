{
 "cells": [
  {
   "cell_type": "code",
   "execution_count": null,
   "metadata": {},
   "outputs": [],
   "source": [
    "## The information age\n",
    "\n",
    "We live in a time that is often called the \"Information Age\". This is because we live in a world shaped by information technology. Enormous amounts of information are available at our fingertips — with just a click of a mouse, we have access to volumes of data the likes of which is unprecedented in human history.\n",
    "\n",
    "Books, memes, videos, tweets, and texts are all forms of information. "
   ]
  },
  {
   "cell_type": "markdown",
   "metadata": {},
   "source": [
    "## What is a Bit?\n",
    "\n",
    "The information in books, memes, tweets and videos can all be stored in binary code, represented by zeros and ones:\n",
    "\n",
    "\n",
    "![](images/bits.jpg)\n",
    "\n",
    "We call these zeros and ones **bits**. \n",
    "\n",
    "Let's see how you can switch between bits and other kinds of information. Think in particular about letters. How could we write sentences using binary?\n",
    "\n",
    "The trick is to have a sort of dictionary that ties each letter to a few bits. For example we could have a dictionary like this:\n",
    "\n",
    "![](images/ascii.jpg)\n",
    "\n",
    "Then, whenever you want to write a letter, such as **F**,you would represent it as 00101. This representation, using bits, makes it very easy for a computer to store and transmit the information. It's a bit like Morse code: dots and dashes. Computers are simple machines, and they speak a very simple language of 0s and 1s. Bits are their alphabet. \n",
    "\n"
   ]
  },
  {
   "cell_type": "code",
   "execution_count": null,
   "metadata": {},
   "outputs": [],
   "source": [
    "## Binary Meme Maker\n",
    "\n",
    "To better understand the ideas of bits and of information, we'll be making our own memes! While you might have made a meme before, we'll be doing things a little differently this time. \n",
    "\n",
    "Go to [this](https://scratch.mit.edu/projects/407940675/) Scratch project.\n",
    "\n",
    "Follow the instructions there for how to make your meme. You'll need to type the letters in using binary!\n",
    "\n",
    "Once you're done, \"remix\" the project and add it to the [Quantum Computing Camp](https://scratch.mit.edu/studios/27113181/) studio! "
   ]
  }
 ],
 "metadata": {
  "kernelspec": {
   "display_name": "Python 3",
   "language": "python",
   "name": "python3"
  },
  "language_info": {
   "codemirror_mode": {
    "name": "ipython",
    "version": 3
   },
   "file_extension": ".py",
   "mimetype": "text/x-python",
   "name": "python",
   "nbconvert_exporter": "python",
   "pygments_lexer": "ipython3",
   "version": "3.7.0"
  }
 },
 "nbformat": 4,
 "nbformat_minor": 2
}
