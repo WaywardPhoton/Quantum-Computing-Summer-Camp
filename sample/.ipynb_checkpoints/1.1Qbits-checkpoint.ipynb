{
 "cells": [
  {
   "cell_type": "markdown",
   "metadata": {},
   "source": [
    "## Quantum Bits\n",
    "The information you are familiar with (the information in texts, videos, and pictures) is actually only one special kind of information, called **classical information**. It can be represented in a binary format — that is, by either zeros or ones.\n",
    "\n",
    "There is actually another kind of information, called **quantum information**. Quantum information is very different from classical information because it obeys the laws of quantum physics instead of classical physics. Quantum physics is a special branch of physics that deals with things that are very, very small—about the size of atoms (or smaller!) .\n",
    "\n",
    "Remember that classical information can be built out of units called **bits**. Quantum information is built out of something different, called **qubits**. One thing we will explore over the course of the week is what qubits are, and how they differ from bits.\n",
    "\n",
    "\n",
    "![](images/qc.png)  &nbsp;        ![](images/cc.jpg)\n",
    "\n",
    "*A Quantum Computer* $\\qquad$ $\\qquad$ $\\qquad$ $\\qquad$ $\\qquad$ $\\qquad$  *A Classical Computer*"
   ]
  },
  {
   "cell_type": "markdown",
   "metadata": {},
   "source": [
    "To begin exploring qubits and quantum information, it will be useful to understand what qubits are. But for that we'll have to go back in time a bit to the discovery of 'quantum weirdness'. Come along on this journey through time!\n",
    "\n",
    "<img src=\"https://book.giflingua.com/images/origin/tumblr-nd1swnybp11txeruoo2-r1-500.gif\" alt=\"Drawing\" style=\"width: 200px;\"/>"
   ]
  }
 ],
 "metadata": {
  "kernelspec": {
   "display_name": "Python 3",
   "language": "python",
   "name": "python3"
  },
  "language_info": {
   "codemirror_mode": {
    "name": "ipython",
    "version": 3
   },
   "file_extension": ".py",
   "mimetype": "text/x-python",
   "name": "python",
   "nbconvert_exporter": "python",
   "pygments_lexer": "ipython3",
   "version": "3.7.0"
  }
 },
 "nbformat": 4,
 "nbformat_minor": 2
}
