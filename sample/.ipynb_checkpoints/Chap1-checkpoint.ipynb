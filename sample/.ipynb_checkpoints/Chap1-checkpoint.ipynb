{
 "cells": [
  {
   "cell_type": "markdown",
   "metadata": {},
   "source": [
    "# Weirdness into Awesomeness\n",
    "\n",
    "Among the ways that the future will look different than today, one of the first that comes to mind is changes in technology. For example, in 2007 the first iPhone was released. Life in 2020 looks very different than in 2007 because of this!\n",
    "\n",
    "This camp is about an upcoming technology called a quantum computer, which is coming soon, and will have a large impact on many different areas of our world. In some ways this impact has already started, as we will explore later in the week.\n",
    "\n",
    "Before we delve into what a quantum computer is, explore the next question to see one of the surprising things a quantum computer, when we create one, will be able to do. \n",
    "\n",
    "Joey the Otter recently hired by GeeringUp as a quantum ambassador, has ordered their favourite thing in the mail - Delux brand pickles! \n",
    "\n",
    "![](images/joey.png) \n",
    "\n",
    "As often happens, Joey's order has come with a large amount of un-necessary packaging. In fact, the package consists of 1 large box with 100 smaller boxes packed inside. The pickles are hidden in one of the smaller boxes.\n",
    " \n",
    "![](images/boxes.png)"
   ]
  },
  {
   "cell_type": "code",
   "execution_count": 3,
   "metadata": {
    "tags": [
     "remove-input"
    ]
   },
   "outputs": [
    {
     "data": {
      "application/vnd.jupyter.widget-view+json": {
       "model_id": "e87f08402cc94aa08d050f4419576c42",
       "version_major": 2,
       "version_minor": 0
      },
      "text/plain": [
       "VBox(children=(Output(), RadioButtons(options=(('10', 0), ('100', 1), ('50', 2)), value=0), Button(description…"
      ]
     },
     "metadata": {},
     "output_type": "display_data"
    }
   ],
   "source": [
    "from create_widgets import create_multipleChoice_widget\n",
    "Q1 = create_multipleChoice_widget('If you open the boxes one by one, how many do you need to open before you have a 50% chance of finding the pickles?',['10','100','50'],'50')\n",
    "display(Q1)"
   ]
  },
  {
   "cell_type": "code",
   "execution_count": null,
   "metadata": {},
   "outputs": [],
   "source": []
  },
  {
   "cell_type": "code",
   "execution_count": null,
   "metadata": {},
   "outputs": [],
   "source": [
    "\n"
   ]
  }
 ],
 "metadata": {
  "celltoolbar": "Tags",
  "kernelspec": {
   "display_name": ".venv",
   "language": "python",
   "name": ".venv"
  },
  "language_info": {
   "codemirror_mode": {
    "name": "ipython",
    "version": 3
   },
   "file_extension": ".py",
   "mimetype": "text/x-python",
   "name": "python",
   "nbconvert_exporter": "python",
   "pygments_lexer": "ipython3",
   "version": "3.7.0"
  }
 },
 "nbformat": 4,
 "nbformat_minor": 2
}
